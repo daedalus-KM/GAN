{
  "nbformat": 4,
  "nbformat_minor": 0,
  "metadata": {
    "colab": {
      "provenance": []
    },
    "kernelspec": {
      "name": "python3",
      "display_name": "Python 3"
    },
    "language_info": {
      "name": "python"
    }
  },
  "cells": [
    {
      "cell_type": "code",
      "execution_count": null,
      "metadata": {
        "id": "cYjRlX40jA52"
      },
      "outputs": [],
      "source": [
        "#Generator\n",
        "import torch.nn as nn\n",
        "\n",
        "G = nn.Sequential(\n",
        "    nn.Linear(100, 256),\n",
        "    nn.ReLU(),\n",
        "    nn.Dropout(0.1),\n",
        "    nn.Linear(256, 256),\n",
        "    nn.ReLU(),\n",
        "    nn.Dropout(0.1),\n",
        "    nn.Linear(256, 28 * 28),\n",
        "    nn.Tanh()\n",
        ").to('cpu')"
      ]
    },
    {
      "cell_type": "code",
      "source": [
        "#Descriminator\n",
        "\n",
        "D = nn.Sequential(\n",
        "    nn.Linear(28 * 28, 256),\n",
        "    nn.LeakyReLU(),\n",
        "    nn.Dropout(0.1),\n",
        "    nn.Linear(256, 256),\n",
        "    nn.LeakyReLU(),\n",
        "    nn.Dropout(0.1),\n",
        "    nn.Linear(256, 1),\n",
        "    nn.Sigmoid()\n",
        ")"
      ],
      "metadata": {
        "id": "RZ48u7TojDYD"
      },
      "execution_count": null,
      "outputs": []
    }
  ]
}